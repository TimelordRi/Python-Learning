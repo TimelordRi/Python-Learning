{
 "cells": [
  {
   "cell_type": "markdown",
   "metadata": {},
   "source": [
    "## 迭代器和生成器 [详见](https://www.cnblogs.com/zhouyuan666/p/9538877.html)\n",
    "\n",
    "### 1、迭代器\n",
    "\n",
    "\n",
    "   **一、什么是迭代器协议**\n",
    "\n",
    "      1.迭代器协议是指：对象必须提供一个next方法，执行该方法要么返回迭代器中的下一项，要么就引起一个stoplteration异常，以终止协议（只能往后走不能往前）\n",
    "\n",
    "      2.可迭代对象：实现了迭代器协议的对象（如何实现：对象内部定义一个__iter__()方法）\n",
    "\n",
    "      3.协议是一种约定，可迭代对象实现了迭代器协议，python的内部工具（如for循环，sum，min函数等）使用迭代器协议访问对象。\n",
    "\n",
    "\n",
    "\n",
    "   **二、for循环机制**\n",
    "\n",
    "      1.for循环机制的本质：循环所有对象，全部都是使用迭代器协议。"
   ]
  },
  {
   "cell_type": "markdown",
   "metadata": {},
   "source": [
    "<mark>**注：**这里讲到Python类中的一些特殊函数\n",
    "- https://blog.csdn.net/sssssspuer/article/details/95717514\n",
    "- https://www.cnblogs.com/xiangsikai/p/7827021.html"
   ]
  },
  {
   "cell_type": "code",
   "execution_count": 1,
   "metadata": {},
   "outputs": [],
   "source": [
    "class Imter(object):\n",
    "    '''小黑你好啊！！'''\n",
    "    def __init__(self,step):\n",
    "        self.step=step\n",
    "    def __iter__(self):\n",
    "        return self\n",
    "    def __next__(self):\n",
    "        if self.step==0:\n",
    "            raise StopIteration('Beyond index!')\n",
    "        self.step-=1\n",
    "        return self.step"
   ]
  },
  {
   "cell_type": "code",
   "execution_count": 2,
   "metadata": {},
   "outputs": [
    {
     "data": {
      "text/plain": [
       "[9, 8, 7, 6, 5, 4, 3, 2, 1, 0]"
      ]
     },
     "execution_count": 2,
     "metadata": {},
     "output_type": "execute_result"
    }
   ],
   "source": [
    "[i for i in Imter(10)]"
   ]
  },
  {
   "cell_type": "code",
   "execution_count": 3,
   "metadata": {},
   "outputs": [],
   "source": [
    "class Fib(object):\n",
    "    def __init__(self):\n",
    "        self.a, self.b = 0, 1\n",
    "    def __iter__(self):\n",
    "        return self\n",
    "    def __next__(self):\n",
    "        self.a, self.b = self.b, self.a + self.b\n",
    "        if self.a > 1000:\n",
    "            raise StopIteration()\n",
    "        return self.a"
   ]
  },
  {
   "cell_type": "code",
   "execution_count": 4,
   "metadata": {},
   "outputs": [
    {
     "data": {
      "text/plain": [
       "[1, 1, 2, 3, 5, 8, 13, 21, 34, 55, 89, 144, 233, 377, 610, 987]"
      ]
     },
     "execution_count": 4,
     "metadata": {},
     "output_type": "execute_result"
    }
   ],
   "source": [
    "[i for i in Fib()]"
   ]
  },
  {
   "cell_type": "code",
   "execution_count": 5,
   "metadata": {},
   "outputs": [],
   "source": [
    "from itertools import groupby\n",
    "def compress(data):\n",
    "    return ((len(list(group)),name) for name ,group in groupby(data))\n",
    "def decompress(data):\n",
    "    return (car * size for size, car in data)"
   ]
  },
  {
   "cell_type": "code",
   "execution_count": 6,
   "metadata": {},
   "outputs": [
    {
     "data": {
      "text/plain": [
       "[(1, '小'),\n",
       " (1, '黑'),\n",
       " (2, '姐'),\n",
       " (1, '你'),\n",
       " (1, '好'),\n",
       " (1, '漂'),\n",
       " (1, '亮'),\n",
       " (1, '啊')]"
      ]
     },
     "execution_count": 6,
     "metadata": {},
     "output_type": "execute_result"
    }
   ],
   "source": [
    "list(compress('小黑姐姐你好漂亮啊'))"
   ]
  },
  {
   "cell_type": "code",
   "execution_count": 7,
   "metadata": {},
   "outputs": [
    {
     "data": {
      "text/plain": [
       "'小黑姐姐你好漂亮啊'"
      ]
     },
     "execution_count": 7,
     "metadata": {},
     "output_type": "execute_result"
    }
   ],
   "source": [
    "''.join(decompress(compress('小黑姐姐你好漂亮啊')))"
   ]
  },
  {
   "cell_type": "markdown",
   "metadata": {},
   "source": [
    "**三：什么是生成器**\n",
    "\n",
    "1.生成器，可以理解为一种数据类型，这种数据类型$\\color{red}{自动实现了迭代器协议}$（其他的数据类型需要调用自己内置的_iter_方法），所以生成器就是可迭代对象。\n",
    "\n",
    "2.生成器分类：在python中有两种表现形式（python有两种不同的方式提供生成器）\n",
    "\n",
    "<mark>**注：** 生成器函数：常规函数定义，但是，$\\color{red}{使用yield语句}$而不是return语句返回结果，yield语句一次返回一个结果，在每个结果中间，挂起函数的状态，以便于下次从它离开的地方继续执行。"
   ]
  },
  {
   "cell_type": "markdown",
   "metadata": {},
   "source": [
    "- 可以通过函数中yield语句来暂停循环语句while或for的运行，这样的函数可以作为generator来使用。\n",
    "\n",
    "     - 其中调用的\\_\\_next\\_\\_()函数用来恢复yield语句后面的程序运行。\n",
    "     \n",
    "     - send()函数负责将值传递给中断运行的yield，在后面的语句发挥作用。"
   ]
  },
  {
   "cell_type": "code",
   "execution_count": 8,
   "metadata": {},
   "outputs": [],
   "source": [
    "import random\n",
    "s=['你能好好对小黑嘛？！她这么乖！','你怎么能抱怨小黑呢？！','求你了，好好珍惜她吧！','你不知道她可想你了嘛！','你小心我告诉小黑！']"
   ]
  },
  {
   "cell_type": "code",
   "execution_count": 9,
   "metadata": {},
   "outputs": [],
   "source": [
    "class People(object):\n",
    "    def __init__(self):\n",
    "        self.name=input('你叫啥名字啊？\\n我叫')\n",
    "        self.sex=input('你男的女的啊？\\n我是')\n",
    "        print (\"{}，原来你是{}啊！哈哈哈。\".format(self.name,self.sex))\n",
    "    def questions(self):\n",
    "        print ('来吧，你有啥问题啊？ ')\n",
    "        while True:\n",
    "            i=random.randint(0,len(s)-1)\n",
    "            answer=(yield)\n",
    "            if answer is not None:\n",
    "                if answer.endswith('？'):\n",
    "                    print ('好了好了，哪有这么多鬼问题！')\n",
    "                elif '小黑' in answer:\n",
    "                    print ('{}'.format(s[i]))\n",
    "                elif '哭' in answer:\n",
    "                    print ('好了好了，哭个屁')"
   ]
  },
  {
   "cell_type": "code",
   "execution_count": 10,
   "metadata": {},
   "outputs": [
    {
     "name": "stdout",
     "output_type": "stream",
     "text": [
      "你叫啥名字啊？\n",
      "我叫黎洲波\n",
      "你男的女的啊？\n",
      "我是男的\n",
      "黎洲波，原来你是男的啊！哈哈哈。\n"
     ]
    }
   ],
   "source": [
    "b=People()"
   ]
  },
  {
   "cell_type": "code",
   "execution_count": 11,
   "metadata": {},
   "outputs": [],
   "source": [
    "Q=b.questions()"
   ]
  },
  {
   "cell_type": "code",
   "execution_count": 12,
   "metadata": {},
   "outputs": [
    {
     "name": "stdout",
     "output_type": "stream",
     "text": [
      "来吧，你有啥问题啊？ \n"
     ]
    }
   ],
   "source": [
    "Q.__next__()"
   ]
  },
  {
   "cell_type": "code",
   "execution_count": 13,
   "metadata": {},
   "outputs": [
    {
     "name": "stdout",
     "output_type": "stream",
     "text": [
      "你能好好对小黑嘛？！她这么乖！\n"
     ]
    }
   ],
   "source": [
    "Q.send('小黑姐姐欺负我！')"
   ]
  },
  {
   "cell_type": "code",
   "execution_count": 14,
   "metadata": {},
   "outputs": [
    {
     "name": "stdout",
     "output_type": "stream",
     "text": [
      "好了好了，哭个屁\n"
     ]
    }
   ],
   "source": [
    "Q.send('呜呜呜，我哭了')"
   ]
  },
  {
   "cell_type": "code",
   "execution_count": 15,
   "metadata": {},
   "outputs": [
    {
     "name": "stdout",
     "output_type": "stream",
     "text": [
      "你小心我告诉小黑！\n"
     ]
    }
   ],
   "source": [
    "Q.send('小黑她总是不理我呜呜呜')"
   ]
  },
  {
   "cell_type": "code",
   "execution_count": 20,
   "metadata": {},
   "outputs": [
    {
     "name": "stdout",
     "output_type": "stream",
     "text": [
      "求你了，好好珍惜她吧！\n"
     ]
    }
   ],
   "source": [
    "Q.send('我也想小黑了')"
   ]
  },
  {
   "cell_type": "code",
   "execution_count": 19,
   "metadata": {},
   "outputs": [
    {
     "name": "stdout",
     "output_type": "stream",
     "text": [
      "你怎么能抱怨小黑呢？！\n"
     ]
    }
   ],
   "source": [
    "Q.send('有时候我还会生小黑的气呢')"
   ]
  },
  {
   "cell_type": "code",
   "execution_count": 24,
   "metadata": {},
   "outputs": [
    {
     "name": "stdout",
     "output_type": "stream",
     "text": [
      "好了好了，哪有这么多鬼问题！\n"
     ]
    }
   ],
   "source": [
    "Q.send('你怎么这个亚子？')"
   ]
  },
  {
   "cell_type": "markdown",
   "metadata": {},
   "source": [
    "- 也可以使用列表推导式来写迭代器和生成器：\n",
    "\n",
    "这里的my_iter就是生成器"
   ]
  },
  {
   "cell_type": "code",
   "execution_count": 23,
   "metadata": {},
   "outputs": [
    {
     "data": {
      "text/plain": [
       "[0, 4, 16, 36, 64]"
      ]
     },
     "execution_count": 23,
     "metadata": {},
     "output_type": "execute_result"
    }
   ],
   "source": [
    "my_iter=(x**2 for x in range(10) if x%2==0)\n",
    "[i for i in my_iter]"
   ]
  },
  {
   "cell_type": "code",
   "execution_count": 25,
   "metadata": {},
   "outputs": [
    {
     "data": {
      "text/plain": [
       "generator"
      ]
     },
     "execution_count": 25,
     "metadata": {},
     "output_type": "execute_result"
    }
   ],
   "source": [
    "type(my_iter)"
   ]
  }
 ],
 "metadata": {
  "kernelspec": {
   "display_name": "Python 3",
   "language": "python",
   "name": "python3"
  },
  "language_info": {
   "codemirror_mode": {
    "name": "ipython",
    "version": 3
   },
   "file_extension": ".py",
   "mimetype": "text/x-python",
   "name": "python",
   "nbconvert_exporter": "python",
   "pygments_lexer": "ipython3",
   "version": "3.6.6"
  }
 },
 "nbformat": 4,
 "nbformat_minor": 2
}
