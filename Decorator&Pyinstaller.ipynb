{
 "cells": [
  {
   "cell_type": "markdown",
   "metadata": {},
   "source": [
    "# 装饰器的使用及Pyinstaller相关问题\n",
    "## 一、装饰器的使用："
   ]
  },
  {
   "cell_type": "code",
   "execution_count": 1,
   "metadata": {},
   "outputs": [],
   "source": [
    "#定义要被签名的函数：\n",
    "def sumi(args):\n",
    "    s = '' if type(list(args)[0]) == str else 0\n",
    "    for i in list(args):\n",
    "        s += i\n",
    "    return s"
   ]
  },
  {
   "cell_type": "code",
   "execution_count": 2,
   "metadata": {},
   "outputs": [],
   "source": [
    "#管理员和用户的数据库\n",
    "admin_info = {'lizhoubo': 'ilovexh'}\n",
    "users_info = {'lizhoubo': 'ilovexh'}\n",
    "\n",
    "\n",
    "#管理员操作系统：管理装饰器使用\n",
    "class apply_user(object):\n",
    "    def __init__(self):\n",
    "        self.id = input('欢迎您登陆管理员系统！\\n请输入管理员账号：\\n')\n",
    "        if not self.id in admin_info:\n",
    "            raise Warning('您不是系统管理员，请申请管理权限！')\n",
    "        else:\n",
    "            self.password = input('请输入您的密码：\\n')\n",
    "            if admin_info[self.id] != self.password:\n",
    "                raise Warning('密码错误，认证失败！')\n",
    "            else:\n",
    "                case = eval(\n",
    "                    input('恭喜您，登陆成功！\\n你可以使用以下函数进行操作：\\n ' +\n",
    "                          '1、添加新用户；\\n 2、删除用户；\\n 3、修改密码；\\n 4、查询注册表；\\n 5、退出。\\n'))\n",
    "        cases = [self.add_user, self.del_user, self.alter_pass, self.info_get]\n",
    "        while True:\n",
    "            if case in range(1, 5):\n",
    "                print(cases[case - 1]())\n",
    "            elif case == 5:\n",
    "                print('成功退出操作系统！但您可自行调用有关函数。')\n",
    "                break\n",
    "            else:\n",
    "                raise Warning('无效操作！')\n",
    "            case = eval(\n",
    "                input('你可以使用以下函数进行操作：\\n ' +\n",
    "                      '1、添加新用户；\\n 2、删除用户；\\n 3、修改密码；\\n 4、查询注册表；\\n 5、退出。\\n'))\n",
    "\n",
    "    def add_user(self):\n",
    "        id_ = input('请输入要注册的账号：\\n')\n",
    "        password = input('请输入密码：\\n')\n",
    "        if id_ in users_info:\n",
    "            raise Warning('该账户已被注册！请直接登陆！')\n",
    "        users_info[id_] = password\n",
    "        return '注册成功！可以登陆用户。'\n",
    "\n",
    "    def del_user(self):\n",
    "        id_ = input('请输入要注销的账号：\\n')\n",
    "        if not id_ in users_info:\n",
    "            raise Warning('该账户不存在，或请勿重复操作！')\n",
    "        users_info.pop(id_)\n",
    "        return '删除成功！'\n",
    "\n",
    "    def alter_pass(self):\n",
    "        password = input('修改您的密码为：\\n')\n",
    "        admin_info[self.id] = password\n",
    "        users_info[self.id] = password\n",
    "        return '密码修改成功！'\n",
    "\n",
    "    def info_get(self):\n",
    "        info = users_info\n",
    "        return info"
   ]
  },
  {
   "cell_type": "code",
   "execution_count": 3,
   "metadata": {},
   "outputs": [],
   "source": [
    "#函数签名数据库\n",
    "rpc_info = {}\n",
    "\n",
    "\n",
    "#装饰器实例：XML-RPC协议提供签名\n",
    "class func_use(object):\n",
    "    def __init__(self):\n",
    "        self.id = input('请输入您的账号：\\n')\n",
    "        if not self.id in users_info:\n",
    "            raise Warning('账号不存在，请向黎洲波申请账号！')\n",
    "        else:\n",
    "            self.password = input('请输入您的密码：\\n')\n",
    "            if users_info[self.id] != self.password:\n",
    "                raise Warning('密码错误，登陆失败！')\n",
    "            else:\n",
    "                print('恭喜您，登录成功！您可以使用{}函数。'.format('xmlrpc'))\n",
    "\n",
    "    def xmlrpc(self, in_=(), out=(type(None), )):\n",
    "        def _xmlrpc(function):\n",
    "            #注册签名\n",
    "            func_name = function.__name__\n",
    "            rpc_info[func_name] = (in_, out)\n",
    "\n",
    "            def _check_type(elements, types):\n",
    "                \"\"\"Subfunction that checks the types.\"\"\"\n",
    "                if len(elements) != len(types):\n",
    "                    raise TypeError('arguement count is wrong')\n",
    "\n",
    "                typed = enumerate(zip(elements, types))\n",
    "\n",
    "                for index, couple in typed:\n",
    "                    arg, of_the_right_type = couple\n",
    "\n",
    "                    if isinstance(arg, of_the_right_type):\n",
    "                        continue\n",
    "                    raise TypeError('arg #%d should be %s' %\n",
    "                                    (index, of_the_right_type))\n",
    "\n",
    "            #封装函数\n",
    "            def __xmlrpc():  #没有允许的关键字\n",
    "                s = 'int' if in_[0] is int else 'str'\n",
    "                args = eval(\n",
    "                    input('请输入%d个{}型数据,以英文逗号分开：\\n'.format(s) % len(in_)))\n",
    "\n",
    "                #检查输出内容\n",
    "                checkable_args = list(args)\n",
    "                _check_type(checkable_args, in_)\n",
    "\n",
    "                #执行函数\n",
    "                res = function(args)\n",
    "\n",
    "                #检查输出\n",
    "                if not type(res) in (tuple, list):\n",
    "                    checkable_res = (res, )\n",
    "                else:\n",
    "                    checkable_res = res\n",
    "                _check_type(checkable_res, out)\n",
    "\n",
    "                #检查完毕，返回函数\n",
    "                print('这些玩意的和是：{}'.format(res))\n",
    "                return res\n",
    "\n",
    "            return __xmlrpc\n",
    "\n",
    "        return _xmlrpc"
   ]
  },
  {
   "cell_type": "markdown",
   "metadata": {},
   "source": [
    "<br>运行流程类似下列操作（这里便于后面pyinstaller打包运行）："
   ]
  },
  {
   "cell_type": "code",
   "execution_count": 4,
   "metadata": {},
   "outputs": [
    {
     "name": "stdout",
     "output_type": "stream",
     "text": [
      "欢迎您登陆管理员系统！\n",
      "请输入管理员账号：\n",
      "lizhoubo\n",
      "请输入您的密码：\n",
      "ilovexh\n",
      "恭喜您，登陆成功！\n",
      "你可以使用以下函数进行操作：\n",
      " 1、添加新用户；\n",
      " 2、删除用户；\n",
      " 3、修改密码；\n",
      " 4、查询注册表；\n",
      " 5、退出。\n",
      "4\n",
      "{'lizhoubo': 'ilovexh'}\n",
      "你可以使用以下函数进行操作：\n",
      " 1、添加新用户；\n",
      " 2、删除用户；\n",
      " 3、修改密码；\n",
      " 4、查询注册表；\n",
      " 5、退出。\n",
      "1\n",
      "请输入要注册的账号：\n",
      "xiaohei\n",
      "请输入密码：\n",
      "ilovelzb\n",
      "注册成功！可以登陆用户。\n",
      "你可以使用以下函数进行操作：\n",
      " 1、添加新用户；\n",
      " 2、删除用户；\n",
      " 3、修改密码；\n",
      " 4、查询注册表；\n",
      " 5、退出。\n",
      "4\n",
      "{'lizhoubo': 'ilovexh', 'xiaohei': 'ilovelzb'}\n",
      "你可以使用以下函数进行操作：\n",
      " 1、添加新用户；\n",
      " 2、删除用户；\n",
      " 3、修改密码；\n",
      " 4、查询注册表；\n",
      " 5、退出。\n",
      "5\n",
      "成功退出操作系统！但您可自行调用有关函数。\n",
      "请输入您的账号：\n",
      "xiaohei\n",
      "请输入您的密码：\n",
      "ilovelzb\n",
      "恭喜您，登录成功！您可以使用xmlrpc函数。\n",
      "请输入5个int型数据,以英文逗号分开：\n",
      "1,2,3,5,8\n",
      "这些玩意的和是：19\n",
      "运行完毕，请按回车键结束程序。\n"
     ]
    }
   ],
   "source": [
    "if __name__ == '__main__':\n",
    "    try:\n",
    "        a = apply_user()\n",
    "        b = func_use()\n",
    "        b.xmlrpc([int] * 5, [int])(sumi)()\n",
    "    except Warning:\n",
    "        input('Warning:您遇到了错误！\\n请按回车键退出。')\n",
    "    else:\n",
    "        input('运行完毕，请按回车键结束程序。')    "
   ]
  },
  {
   "cell_type": "markdown",
   "metadata": {},
   "source": [
    "被签名的函数和特定参数输出到字典rpc_info里："
   ]
  },
  {
   "cell_type": "code",
   "execution_count": 5,
   "metadata": {},
   "outputs": [
    {
     "name": "stdout",
     "output_type": "stream",
     "text": [
      "{'sumi': ([<class 'int'>, <class 'int'>, <class 'int'>, <class 'int'>, <class 'int'>], [<class 'int'>])}\n"
     ]
    }
   ],
   "source": [
    "print(rpc_info)"
   ]
  },
  {
   "cell_type": "markdown",
   "metadata": {},
   "source": [
    "## 二、用pyinstaller打包.py文件\n",
    "### 0、这里涉及到问题：\n",
    "- [安装和使用Pyinstaller](#安装)\n",
    "<br><br>\n",
    "- [递归深度达上限](#递归问题)\n",
    "<br><br>\n",
    "- [关联文件无法加载](#文件)\n",
    "<br><br>\n",
    "- [Anaconda和Pipenv环境下打包](#Ana)"
   ]
  },
  {
   "cell_type": "markdown",
   "metadata": {},
   "source": [
    "### 1、安装和使用Pyinstaller <a name ='安装'></a>"
   ]
  },
  {
   "cell_type": "markdown",
   "metadata": {},
   "source": [
    "- **安装**"
   ]
  },
  {
   "cell_type": "markdown",
   "metadata": {},
   "source": [
    "Windows系统在命令行用`conda install pyinstaller`或`pip install pyinstaller`安装Pyinstaller包。\n",
    "<br><br>\n",
    "升级Pyinstaller用`pip --upgrade pyinstaller`。"
   ]
  },
  {
   "cell_type": "markdown",
   "metadata": {},
   "source": [
    "- **使用**"
   ]
  },
  {
   "cell_type": "markdown",
   "metadata": {},
   "source": [
    "在要打包的.py文件目录下命令行`pyinstaller -F xx.py`。\n",
    "<br><br>\n",
    "这里的`-F`是Pyinstaller的操作：打包为一个.exe文件，且用DOS窗口运行。\n",
    "<br><br>\n",
    "Pyinstaller命令可用`pyinstaller help`查看。"
   ]
  },
  {
   "cell_type": "markdown",
   "metadata": {},
   "source": [
    "- **详见[官方文档](https://pythonhosted.org/PyInstaller/usage.html)**"
   ]
  },
  {
   "cell_type": "markdown",
   "metadata": {},
   "source": [
    "### 2、递归深度达上限 <a name ='递归问题'></a>"
   ]
  },
  {
   "cell_type": "markdown",
   "metadata": {},
   "source": [
    "- **显示`Error:maximum recursion depth exceeded.`**"
   ]
  },
  {
   "cell_type": "markdown",
   "metadata": {},
   "source": [
    "Python调用堆栈的上限递归深度大概只有近1000（一般情况下是够用的），这里使用Sys包进行设置。\n",
    "<br><br>\n",
    "Pyinstaller打包失败后虽然不能生成.exe，但是生成了.spec文件，用记事本打开.spec文件，在文件第二行加上："
   ]
  },
  {
   "cell_type": "code",
   "execution_count": 6,
   "metadata": {},
   "outputs": [],
   "source": [
    "import sys\n",
    "sys.setrecursionlimit(100000) #括号里为设置的递归深度"
   ]
  },
  {
   "cell_type": "markdown",
   "metadata": {},
   "source": [
    "然后命令行运行`pyinstaller -F xx.spec`就可以了。"
   ]
  },
  {
   "cell_type": "markdown",
   "metadata": {},
   "source": [
    "### 3、关联文件无法加载<a name ='文件'></a>"
   ]
  },
  {
   "cell_type": "markdown",
   "metadata": {},
   "source": [
    "- **运行文件时显示`Failed to execute script xx`**"
   ]
  },
  {
   "cell_type": "markdown",
   "metadata": {},
   "source": [
    ".py文件运行依赖电脑指定路径的关联文件时，pyinstaller打包成.exe时无法找到路径。\n",
    "<br><br>\n",
    "可以通过修改.spec文件解决问题，这里没操作过，不赘述，详见:\n",
    "<br>\n",
    "- https://pythonhosted.org/PyInstaller/spec-files.html\n",
    "- https://www.yuanrenxue.com/tricks/pyinstaller-spec.html"
   ]
  },
  {
   "cell_type": "markdown",
   "metadata": {},
   "source": [
    "### 4、Anaconda和Pipenv环境下打包<a name ='Ana'></a>"
   ]
  },
  {
   "cell_type": "markdown",
   "metadata": {},
   "source": [
    "- **打包出来包含可执行程序的文件很大**"
   ]
  },
  {
   "cell_type": "markdown",
   "metadata": {},
   "source": [
    "在Anaconda的运行环境下Pyinstaller打包时会将Anaconda环境中各种包也打包到文件中，导致了打包速度慢且打包出来过大，不好传播的问题。\n",
    "<br><br>\n",
    "当然也可以自己在运行Pyinstaller时命令`hide-import-xxx`，但是这种方法要一个一个包hide，不太好用。\n",
    "<br><br>\n",
    "我也想到直接用女朋友的原生`Python 3.6`环境打包，这样文件也不会很大。<mark>*但是这里还有更好的方法：*"
   ]
  },
  {
   "cell_type": "markdown",
   "metadata": {},
   "source": [
    "- **Pipenv环境**"
   ]
  },
  {
   "cell_type": "markdown",
   "metadata": {},
   "source": [
    "Windows系统命令行输入`pip install pipenv`安装Pipenv包。\n",
    "<br><br>\n",
    "在xxx.py所在目录运行DOS命令行输入`pipenv shell`进入.virtualenv。\n",
    "<br><br>\n",
    "这里查看自己是否操作正确可以用命令`pip list`查看当前虚拟环境下安装的包，也可以用`pipenv --venv` 查看虚拟环境路径。更多操作见`pipenv help`\n",
    "<br><br>\n",
    "然后就可以使用Pyinstaller了，<mark>操作跟前面一样</mark>。\n",
    "<br><br>\n",
    "打包完成可以用`exit`命令退出虚拟环境。\n",
    "<br><br>\n",
    "Pipenv使用详见[官方文档](https://docs.pipenv.org/en/latest/)"
   ]
  }
 ],
 "metadata": {
  "hide_input": false,
  "kernelspec": {
   "display_name": "Python 3",
   "language": "python",
   "name": "python3"
  },
  "language_info": {
   "codemirror_mode": {
    "name": "ipython",
    "version": 3
   },
   "file_extension": ".py",
   "mimetype": "text/x-python",
   "name": "python",
   "nbconvert_exporter": "python",
   "pygments_lexer": "ipython3",
   "version": "3.6.6"
  },
  "varInspector": {
   "cols": {
    "lenName": 16,
    "lenType": 16,
    "lenVar": 40
   },
   "kernels_config": {
    "python": {
     "delete_cmd_postfix": "",
     "delete_cmd_prefix": "del ",
     "library": "var_list.py",
     "varRefreshCmd": "print(var_dic_list())"
    },
    "r": {
     "delete_cmd_postfix": ") ",
     "delete_cmd_prefix": "rm(",
     "library": "var_list.r",
     "varRefreshCmd": "cat(var_dic_list()) "
    }
   },
   "oldHeight": 122.4,
   "position": {
    "height": "409.4px",
    "left": "1126px",
    "right": "20px",
    "top": "120px",
    "width": "350px"
   },
   "types_to_exclude": [
    "module",
    "function",
    "builtin_function_or_method",
    "instance",
    "_Feature"
   ],
   "varInspector_section_display": "block",
   "window_display": false
  }
 },
 "nbformat": 4,
 "nbformat_minor": 2
}
